{
 "cells": [
  {
   "cell_type": "code",
   "execution_count": 1,
   "id": "7a1e5e90",
   "metadata": {},
   "outputs": [],
   "source": [
    "import pandas as pd\n",
    "import numpy as np\n",
    "\n",
    "import matplotlib.pyplot as plt\n",
    "import math\n",
    "from sklearn.utils import resample\n",
    "import seaborn as sns\n",
    "\n",
    "from bootstrapped import bootstrap as bs\n",
    "from bootstrapped import stats_functions as bs_st\n",
    "from scipy.stats import ttest_ind"
   ]
  },
  {
   "cell_type": "markdown",
   "id": "474c8c22",
   "metadata": {},
   "source": [
    "### Исходные данные по ARPU"
   ]
  },
  {
   "cell_type": "code",
   "execution_count": 2,
   "id": "3e0b936c",
   "metadata": {},
   "outputs": [],
   "source": [
    "# ARPU за январь 2022\n",
    "my_sd = pd.read_csv('sd_my_1.csv') "
   ]
  },
  {
   "cell_type": "code",
   "execution_count": 3,
   "id": "ffd003ce",
   "metadata": {},
   "outputs": [
    {
     "data": {
      "text/plain": [
       "0        14880.0\n",
       "1         8240.0\n",
       "2         4920.0\n",
       "3        49920.0\n",
       "4         8240.0\n",
       "          ...   \n",
       "1457    113920.0\n",
       "1458      8240.0\n",
       "1459      7920.0\n",
       "1460      4920.0\n",
       "1461      7540.0\n",
       "Name: 63360.0, Length: 1462, dtype: float64"
      ]
     },
     "execution_count": 3,
     "metadata": {},
     "output_type": "execute_result"
    }
   ],
   "source": [
    "my_sd.iloc[:,0]"
   ]
  },
  {
   "cell_type": "code",
   "execution_count": 4,
   "id": "0099ac52",
   "metadata": {},
   "outputs": [
    {
     "data": {
      "text/plain": [
       "10766.653971623195"
      ]
     },
     "execution_count": 4,
     "metadata": {},
     "output_type": "execute_result"
    }
   ],
   "source": [
    "# стандартное отклонение исходной выборки\n",
    "data=pd.Series(my_sd.iloc[:,0])\n",
    "data.std()"
   ]
  },
  {
   "cell_type": "markdown",
   "id": "967c180f",
   "metadata": {},
   "source": [
    "### Сократим дисперсию с применением bootstrap"
   ]
  },
  {
   "cell_type": "code",
   "execution_count": 5,
   "id": "b2d89c6a",
   "metadata": {},
   "outputs": [
    {
     "data": {
      "text/plain": [
       "<matplotlib.lines.Line2D at 0x25e58b84580>"
      ]
     },
     "execution_count": 5,
     "metadata": {},
     "output_type": "execute_result"
    },
    {
     "data": {
      "image/png": "[encoded data removed]",
      "text/plain": [
       "<Figure size 432x288 with 1 Axes>"
      ]
     },
     "metadata": {
      "needs_background": "light"
     },
     "output_type": "display_data"
    }
   ],
   "source": [
    "# среднее арифметческое по выборке\n",
    "sample_1 = data\n",
    "sample_1_mean=sample_1.mean()\n",
    "\n",
    "r1 = []\n",
    "for i in range(0, 10000):\n",
    "    resample_1 = resample(sample_1, replace=True)\n",
    "    resample_1_mean=resample_1.mean()\n",
    "    r1.append(resample_1_mean)\n",
    "    \n",
    "r1 = np.array(r1)\n",
    "\n",
    "sns.histplot(r1)\n",
    "plt.axvline(r1.mean(), color='red')\n",
    "plt.axvline(np.percentile(r1, 2.5), color='blue', alpha=.8, linestyle='--')\n",
    "plt.axvline(np.percentile(r1, 97.5), color='blue', alpha=.8, linestyle='--')"
   ]
  },
  {
   "cell_type": "code",
   "execution_count": 6,
   "id": "29c856e1",
   "metadata": {},
   "outputs": [
    {
     "name": "stdout",
     "output_type": "stream",
     "text": [
      "Среднее по исходной выборке ARPU =  13624.387010943909\n"
     ]
    }
   ],
   "source": [
    "print(\"Среднее по исходной выборке ARPU = \",data.mean())"
   ]
  },
  {
   "cell_type": "code",
   "execution_count": 7,
   "id": "1bfd7494",
   "metadata": {
    "scrolled": true
   },
   "outputs": [
    {
     "name": "stdout",
     "output_type": "stream",
     "text": [
      "Среднее после применения bootstrap =  13626.623975129956\n"
     ]
    }
   ],
   "source": [
    "print(\"Среднее после применения bootstrap = \",r1.mean())"
   ]
  },
  {
   "cell_type": "code",
   "execution_count": 8,
   "id": "6dd84bd2",
   "metadata": {},
   "outputs": [
    {
     "name": "stdout",
     "output_type": "stream",
     "text": [
      "Стандартное отклонение по исходной выборке ARPU =  10766.653971623195\n"
     ]
    }
   ],
   "source": [
    "print(\"Стандартное отклонение по исходной выборке ARPU = \",data.std())"
   ]
  },
  {
   "cell_type": "code",
   "execution_count": 9,
   "id": "c511ee9a",
   "metadata": {},
   "outputs": [
    {
     "name": "stdout",
     "output_type": "stream",
     "text": [
      "Стандартное отклонение после применения bootstrap =  284.523926972302\n"
     ]
    }
   ],
   "source": [
    "print(\"Стандартное отклонение после применения bootstrap = \",r1.std())"
   ]
  },
  {
   "cell_type": "markdown",
   "id": "2d397014",
   "metadata": {},
   "source": [
    "### Сократим дисперсию с применением библиотечного bootstrap"
   ]
  },
  {
   "cell_type": "code",
   "execution_count": 10,
   "id": "a4423eee",
   "metadata": {},
   "outputs": [
    {
     "data": {
      "text/plain": [
       "<matplotlib.lines.Line2D at 0x25e58ba68b0>"
      ]
     },
     "execution_count": 10,
     "metadata": {},
     "output_type": "execute_result"
    },
    {
     "data": {
      "image/png": "[encoded data removed]",
      "text/plain": [
       "<Figure size 432x288 with 1 Axes>"
      ]
     },
     "metadata": {
      "needs_background": "light"
     },
     "output_type": "display_data"
    }
   ],
   "source": [
    "# воспользуемся кодом из статьи https://habr.com/ru/company/yandex/blog/476826/ \n",
    "# через библиотечный бутстрэп\n",
    "\n",
    "# переводим в одномерный массив\n",
    "sample_1 = data.values\n",
    "\n",
    "bs_1 = bs.bootstrap(sample_1, stat_func=bs_st.mean, \n",
    "             num_iterations=10000, iteration_batch_size=300, \n",
    "             return_distribution=True)\n",
    "\n",
    "sns.histplot(bs_1)\n",
    "plt.axvline(bs_1.mean(), color='darkblue', label='Original')\n",
    "plt.axvline(np.percentile(bs_1, 2.5), color='blue', alpha=.8, linestyle='--')\n",
    "plt.axvline(np.percentile(bs_1, 97.5), color='blue', alpha=.8, linestyle='--')"
   ]
  },
  {
   "cell_type": "code",
   "execution_count": 11,
   "id": "7bfdffc1",
   "metadata": {},
   "outputs": [
    {
     "name": "stdout",
     "output_type": "stream",
     "text": [
      "Среднее по исходной выборке ARPU =  13624.387010943909\n"
     ]
    }
   ],
   "source": [
    "print(\"Среднее по исходной выборке ARPU = \",data.mean())"
   ]
  },
  {
   "cell_type": "code",
   "execution_count": 12,
   "id": "f6056916",
   "metadata": {
    "scrolled": true
   },
   "outputs": [
    {
     "name": "stdout",
     "output_type": "stream",
     "text": [
      "Среднее после применения bootstrap =  13620.970313963748\n"
     ]
    }
   ],
   "source": [
    "print(\"Среднее после применения bootstrap = \",bs_1.mean())"
   ]
  },
  {
   "cell_type": "code",
   "execution_count": 13,
   "id": "83da76f5",
   "metadata": {},
   "outputs": [
    {
     "name": "stdout",
     "output_type": "stream",
     "text": [
      "Стандартное отклонение по исходной выборке ARPU =  10766.653971623195\n"
     ]
    }
   ],
   "source": [
    "print(\"Стандартное отклонение по исходной выборке ARPU = \",data.std())"
   ]
  },
  {
   "cell_type": "code",
   "execution_count": 14,
   "id": "dc55a4ba",
   "metadata": {},
   "outputs": [
    {
     "name": "stdout",
     "output_type": "stream",
     "text": [
      "Стандартное отклонение после применения bootstrap =  281.193926278229\n"
     ]
    }
   ],
   "source": [
    "print(\"Стандартное отклонение после применения bootstrap = \",bs_1.std())"
   ]
  }
 ],
 "metadata": {
  "kernelspec": {
   "display_name": "Python 3",
   "language": "python",
   "name": "python3"
  },
  "language_info": {
   "codemirror_mode": {
    "name": "ipython",
    "version": 3
   },
   "file_extension": ".py",
   "mimetype": "text/x-python",
   "name": "python",
   "nbconvert_exporter": "python",
   "pygments_lexer": "ipython3",
   "version": "3.8.8"
  }
 },
 "nbformat": 4,
 "nbformat_minor": 5
}
